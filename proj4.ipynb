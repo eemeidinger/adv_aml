{
  "cells": [
    {
      "cell_type": "code",
      "execution_count": null,
      "metadata": {
        "id": "c6XtvoxxULEH"
      },
      "outputs": [],
      "source": [
        "#tune own neural net for the work"
      ]
    },
    {
      "cell_type": "code",
      "execution_count": 1,
      "metadata": {
        "id": "SdY7kug56pa5"
      },
      "outputs": [],
      "source": [
        "import numpy as np\n",
        "from math import gamma\n",
        "import torch\n",
        "import torch.nn as nn\n",
        "from torchvision import datasets\n",
        "from torchvision import transforms\n",
        "from torch.utils.data.sampler import SubsetRandomSampler\n",
        "import matplotlib.pyplot as plt\n"
      ]
    },
    {
      "cell_type": "code",
      "execution_count": 2,
      "metadata": {
        "colab": {
          "base_uri": "https://localhost:8080/"
        },
        "id": "4jpz9p7oLORp",
        "outputId": "92f5d959-7384-4242-8b56-2c50e043fa2d"
      },
      "outputs": [
        {
          "output_type": "stream",
          "name": "stdout",
          "text": [
            "Using cuda device\n"
          ]
        }
      ],
      "source": [
        "# Get gpu, mps or cpu device for training.\n",
        "device = (\n",
        "    \"cuda\"\n",
        "    if torch.cuda.is_available()\n",
        "    else \"mps\"\n",
        "    if torch.backends.mps.is_available()\n",
        "    else \"cpu\"\n",
        ")\n",
        "print(f\"Using {device} device\")"
      ]
    },
    {
      "cell_type": "code",
      "execution_count": 3,
      "metadata": {
        "colab": {
          "base_uri": "https://localhost:8080/"
        },
        "id": "iPYFvNdGLVdG",
        "outputId": "576c53b4-a201-4e4c-f01f-3d3b3cc46728"
      },
      "outputs": [
        {
          "output_type": "stream",
          "name": "stdout",
          "text": [
            "Downloading https://www.cs.toronto.edu/~kriz/cifar-10-python.tar.gz to ./data/cifar-10-python.tar.gz\n"
          ]
        },
        {
          "output_type": "stream",
          "name": "stderr",
          "text": [
            "100%|██████████| 170498071/170498071 [00:03<00:00, 43637515.68it/s]\n"
          ]
        },
        {
          "output_type": "stream",
          "name": "stdout",
          "text": [
            "Extracting ./data/cifar-10-python.tar.gz to ./data\n",
            "Files already downloaded and verified\n",
            "Files already downloaded and verified\n"
          ]
        }
      ],
      "source": [
        "def get_train_valid_loader(data_dir,\n",
        "                           batch_size,\n",
        "                           augment,\n",
        "                           random_seed,\n",
        "                           valid_size=0.1,\n",
        "                           shuffle=True):\n",
        "    normalize = transforms.Normalize(\n",
        "        mean=[0.4914, 0.4822, 0.4465],\n",
        "        std=[0.2023, 0.1994, 0.2010],\n",
        "    )\n",
        "\n",
        "    # define transforms\n",
        "    valid_transform = transforms.Compose([\n",
        "            transforms.Resize((227,227)),\n",
        "            transforms.ToTensor(),\n",
        "            normalize,\n",
        "    ])\n",
        "    if augment:\n",
        "        train_transform = transforms.Compose([\n",
        "            transforms.RandomCrop(32, padding=4),\n",
        "            transforms.RandomHorizontalFlip(),\n",
        "            transforms.ToTensor(),\n",
        "            normalize,\n",
        "        ])\n",
        "    else:\n",
        "        train_transform = transforms.Compose([\n",
        "            transforms.Resize((227,227)),\n",
        "            transforms.ToTensor(),\n",
        "            normalize,\n",
        "        ])\n",
        "\n",
        "    # load the dataset\n",
        "    train_dataset = datasets.CIFAR10(\n",
        "        root=data_dir, train=True,\n",
        "        download=True, transform=train_transform,\n",
        "    )\n",
        "\n",
        "    valid_dataset = datasets.CIFAR10(\n",
        "        root=data_dir, train=True,\n",
        "        download=True, transform=valid_transform,\n",
        "    )\n",
        "\n",
        "    num_train = len(train_dataset)\n",
        "    indices = list(range(num_train))\n",
        "    split = int(np.floor(valid_size * num_train))\n",
        "\n",
        "    if shuffle:\n",
        "        np.random.seed(random_seed)\n",
        "        np.random.shuffle(indices)\n",
        "\n",
        "    train_idx, valid_idx = indices[split:], indices[:split]\n",
        "    train_sampler = SubsetRandomSampler(train_idx)\n",
        "    valid_sampler = SubsetRandomSampler(valid_idx)\n",
        "\n",
        "    train_loader = torch.utils.data.DataLoader(\n",
        "        train_dataset, batch_size=batch_size, sampler=train_sampler)\n",
        "\n",
        "    valid_loader = torch.utils.data.DataLoader(\n",
        "        valid_dataset, batch_size=batch_size, sampler=valid_sampler)\n",
        "\n",
        "    return (train_loader, valid_loader)\n",
        "\n",
        "\n",
        "def get_test_loader(data_dir,\n",
        "                    batch_size,\n",
        "                    shuffle=True):\n",
        "    normalize = transforms.Normalize(\n",
        "        mean=[0.485, 0.456, 0.406],\n",
        "        std=[0.229, 0.224, 0.225],\n",
        "    )\n",
        "\n",
        "    # define transform\n",
        "    transform = transforms.Compose([\n",
        "        transforms.Resize((227,227)),\n",
        "        transforms.ToTensor(),\n",
        "        normalize,\n",
        "    ])\n",
        "\n",
        "    dataset = datasets.CIFAR10(\n",
        "        root=data_dir, train=False,\n",
        "        download=True, transform=transform,\n",
        "    )\n",
        "\n",
        "    data_loader = torch.utils.data.DataLoader(\n",
        "        dataset, batch_size=batch_size, shuffle=shuffle\n",
        "    )\n",
        "\n",
        "    return data_loader\n",
        "\n",
        "\n",
        "# CIFAR10 dataset\n",
        "train_loader, valid_loader = get_train_valid_loader(data_dir = './data',                                      batch_size = 64,\n",
        "                       augment = False,                             \t\t     random_seed = 1)\n",
        "\n",
        "test_loader = get_test_loader(data_dir = './data',\n",
        "                              batch_size = 64)"
      ]
    },
    {
      "cell_type": "markdown",
      "metadata": {
        "id": "VEWTXGY16ceT"
      },
      "source": [
        "For this assignment you will use a gridsearch algorithm, such as the particle swarm or CSO to tune hyperparameters for a Pytorch neural network design, such as Alex Net, to create a data application for the CiFAR10  data set and yield good accuracy on the test set. For CiFAR10, good accuracy on the test set is over 84%.\n",
        "\n",
        "Alternatively, if you prefer to work with EMNIST (https://www.nist.gov/itl/products-and-services/emnist-dataset) you should aim at an accuracy over 90%.\n",
        "\n",
        "Reference for EMNIST: https://arxiv.org/pdf/1702.05373.pdf"
      ]
    },
    {
      "cell_type": "markdown",
      "metadata": {
        "id": "77fkG64V_B9F"
      },
      "source": [
        "## PSO\n",
        "\n"
      ]
    },
    {
      "cell_type": "code",
      "execution_count": 4,
      "metadata": {
        "id": "fLMkIGG_WAht"
      },
      "outputs": [],
      "source": [
        "import math"
      ]
    },
    {
      "cell_type": "code",
      "execution_count": 5,
      "metadata": {
        "id": "DvhXTUBVKg87"
      },
      "outputs": [],
      "source": [
        "def particle_swarm_optimization(num_dimensions, num_particles, max_iter, i_min=-10,i_max=10,bounds=None,w=0.5,c1=0.25,c2=0.75):\n",
        "    # Initialize the particles\n",
        "    # This creates a data structure such as a dictionary\n",
        "    if bounds is None:\n",
        "        particles = [({'position': [np.random.uniform(i_min, i_max) for _ in range(num_dimensions)],\n",
        "                    'velocity': [np.random.uniform(-1, 1) for _ in range(num_dimensions)],\n",
        "                    'pbest': float('inf'),\n",
        "                    'pbest_position': None})\n",
        "                    for _ in range(num_particles)]\n",
        "    else:\n",
        "        particles = [({'position': [np.random.uniform(bounds[i][0], bounds[i][1]) for i in range(num_dimensions)],\n",
        "                    'velocity': [np.random.uniform(-1, 1) for _ in range(num_dimensions)],\n",
        "                    'pbest': float('inf'),\n",
        "                    'pbest_position': None})\n",
        "                    for _ in range(num_particles)]\n",
        "\n",
        "    # Initialize global best\n",
        "    gbest_value = float('inf')\n",
        "    gbest_position = None\n",
        "\n",
        "    for particle in particles:\n",
        "          position = particle['position']\n",
        "          velocity = particle['velocity']\n",
        "\n",
        "          convs = math.ceil(position[0])\n",
        "          neurs = math.ceil(((position[1])//20)*20)\n",
        "          wd = math.ceil(position[2])/10000\n",
        "\n",
        "          # Calculate the current value\n",
        "          num_classes = 10\n",
        "          num_epochs = 10\n",
        "          batch_size = 40\n",
        "\n",
        "          model = MyAlexNet(convs,neurs).to(device)\n",
        "            # Loss and optimizer\n",
        "          criterion = nn.CrossEntropyLoss()\n",
        "          optimizer = torch.optim.SGD(model.parameters(), lr=.001, weight_decay = wd, momentum = 0.9)\n",
        "          current_value = stepper(num_epochs,train_loader,model,criterion,optimizer,len(train_loader))\n",
        "            # Update personal best\n",
        "          if current_value < particle['pbest']:\n",
        "              particle['pbest'] = current_value\n",
        "              particle['pbest_position'] = position.copy()\n",
        "\n",
        "            # Update global best\n",
        "          if current_value < gbest_value:\n",
        "              gbest_value = current_value\n",
        "              gbest_position = position.copy()\n",
        "            # Update particle's velocity and position\n",
        "          for i in range(num_dimensions):\n",
        "              r1, r2 = np.random.uniform(), np.random.uniform()\n",
        "              velocity[i] = w * velocity[i] + c1*r1 * (particle['pbest_position'][i] - position[i]) + c2*r2 * (gbest_position[i] - position[i])\n",
        "              position[i] += velocity[i]\n",
        "              # legalize the values to the provided bounds\n",
        "              if bounds is not None:\n",
        "                  position[i] = np.clip(position[i],bounds[i][0],bounds[i][1])\n",
        "\n",
        "    return gbest_position, gbest_value"
      ]
    },
    {
      "cell_type": "markdown",
      "metadata": {
        "id": "OSkcMkn7_ETk"
      },
      "source": [
        "## AlexNet"
      ]
    },
    {
      "cell_type": "code",
      "execution_count": 6,
      "metadata": {
        "id": "QXZ-Vbhi_Nk6"
      },
      "outputs": [],
      "source": [
        "import torch\n",
        "import torchvision\n",
        "import torchvision.transforms as transforms\n",
        "import torch.nn as nn\n",
        "import torch.optim as optim\n",
        "from torchvision import models\n",
        "from tqdm import tqdm"
      ]
    },
    {
      "cell_type": "code",
      "execution_count": 7,
      "metadata": {
        "id": "EBjiEGbqSaru"
      },
      "outputs": [],
      "source": [
        "class MyAlexNet(nn.Module):\n",
        "    def __init__(self,conv,neur,num_classes=10):\n",
        "        super(MyAlexNet, self).__init__()\n",
        "        self.layer1 = nn.Sequential(\n",
        "            nn.Conv2d(3, conv, kernel_size=11, stride=4, padding=0),\n",
        "            nn.BatchNorm2d(conv),\n",
        "            nn.ReLU(),\n",
        "            nn.MaxPool2d(kernel_size = 3, stride = 2))\n",
        "        self.layer2 = nn.Sequential(\n",
        "            nn.Conv2d(conv, 256, kernel_size=5, stride=1, padding=2),\n",
        "            nn.BatchNorm2d(256),\n",
        "            nn.ReLU(),\n",
        "            nn.MaxPool2d(kernel_size = 3, stride = 2))\n",
        "        self.layer3 = nn.Sequential(\n",
        "            nn.Conv2d(256, 384, kernel_size=3, stride=1, padding=1),\n",
        "            nn.BatchNorm2d(384),\n",
        "            nn.ReLU())\n",
        "        self.layer4 = nn.Sequential(\n",
        "            nn.Conv2d(384, 384, kernel_size=3, stride=1, padding=1),\n",
        "            nn.BatchNorm2d(384),\n",
        "            nn.ReLU())\n",
        "        self.layer5 = nn.Sequential(\n",
        "            nn.Conv2d(384, 256, kernel_size=3, stride=1, padding=1),\n",
        "            nn.BatchNorm2d(256),\n",
        "            nn.ReLU(),\n",
        "            nn.MaxPool2d(kernel_size = 3, stride = 2))\n",
        "        self.fc = nn.Sequential(\n",
        "            nn.Dropout(0.5),\n",
        "            nn.Linear(9216, neur),\n",
        "            nn.ReLU())\n",
        "        self.fc1 = nn.Sequential(\n",
        "            nn.Dropout(0.5),\n",
        "            nn.Linear(neur, neur),\n",
        "            nn.ReLU())\n",
        "        self.fc2= nn.Sequential(\n",
        "            nn.Linear(neur, num_classes))\n",
        "\n",
        "    def forward(self, x):\n",
        "        out = self.layer1(x)\n",
        "        out = self.layer2(out)\n",
        "        out = self.layer3(out)\n",
        "        out = self.layer4(out)\n",
        "        out = self.layer5(out)\n",
        "        out = out.reshape(out.size(0), -1)\n",
        "        out = self.fc(out)\n",
        "        out = self.fc1(out)\n",
        "        out = self.fc2(out)\n",
        "        return out"
      ]
    },
    {
      "cell_type": "code",
      "execution_count": 8,
      "metadata": {
        "id": "9SrZm35ZxN--"
      },
      "outputs": [],
      "source": [
        "#tune number of convulutions and nuerons. make range of values\n",
        "##create wrapper function, output is accuracy on test, choice of hyperparameters\n",
        "#h(0) number of convolutions\n",
        "#h(1) number of nuerons\n",
        "#h(2) learning rate"
      ]
    },
    {
      "cell_type": "code",
      "execution_count": 9,
      "metadata": {
        "id": "u27m3xouDuRk"
      },
      "outputs": [],
      "source": [
        "def stepper(num_epochs,trainloader,model,criterion,optimizer,total_step):\n",
        "  for epoch in range(num_epochs):\n",
        "      for i, (images, labels) in enumerate(train_loader):\n",
        "          # Move tensors to the configured device\n",
        "          images = images.to(device)\n",
        "          labels = labels.to(device)\n",
        "\n",
        "          # Forward pass\n",
        "          outputs = model(images)\n",
        "          loss = criterion(outputs, labels)\n",
        "\n",
        "          # Backward and optimize\n",
        "          optimizer.zero_grad()\n",
        "          loss.backward()\n",
        "          optimizer.step()\n",
        "\n",
        "      print ('Epoch [{}/{}], Step [{}/{}], Loss: {:.4f}'\n",
        "                    .format(epoch+1, num_epochs, i+1, total_step, loss.item()))\n",
        "\n",
        "      # Validation\n",
        "      with torch.no_grad():\n",
        "          correct = 0\n",
        "          total = 0\n",
        "          for images, labels in valid_loader:\n",
        "              images = images.to(device)\n",
        "              labels = labels.to(device)\n",
        "              outputs = model(images)\n",
        "              _, predicted = torch.max(outputs.data, 1)\n",
        "              total += labels.size(0)\n",
        "              correct += (predicted == labels).sum().item()\n",
        "              del images, labels, outputs\n",
        "              accuracy = 100 * correct / total\n",
        "\n",
        "          print('Accuracy of the network on the {} validation images: {} %'.format(5000, 100 * correct / total))\n",
        "  return loss"
      ]
    },
    {
      "cell_type": "code",
      "execution_count": 14,
      "metadata": {
        "id": "7_0YBPE1BBYR"
      },
      "outputs": [],
      "source": [
        "num_classes = 10\n",
        "num_dimensions = 3\n",
        "num_particles = 5\n",
        "max_iter = 50\n",
        "learning_rate = 0.005\n",
        "bounds_p = [(75, 150), (500,8000 ),(10,50)]#conv, neur, wd\n",
        "\n",
        "# Run PSO"
      ]
    },
    {
      "cell_type": "code",
      "source": [
        "10/ 10000\n"
      ],
      "metadata": {
        "colab": {
          "base_uri": "https://localhost:8080/"
        },
        "id": "8MZHbUtEP4a8",
        "outputId": "39786d30-b2e6-4282-81da-1aa5a052b8a5"
      },
      "execution_count": 15,
      "outputs": [
        {
          "output_type": "execute_result",
          "data": {
            "text/plain": [
              "0.001"
            ]
          },
          "metadata": {},
          "execution_count": 15
        }
      ]
    },
    {
      "cell_type": "markdown",
      "source": [
        "## My model was able to consistently get to 81% on the validation data for each of the final epochs, but was not much higher than this"
      ],
      "metadata": {
        "id": "LslsR7WxdIF2"
      }
    },
    {
      "cell_type": "code",
      "execution_count": 16,
      "metadata": {
        "colab": {
          "base_uri": "https://localhost:8080/"
        },
        "id": "i-JnSHvKSTUg",
        "outputId": "97a1580a-8af9-46c6-82d2-5637e4960e90"
      },
      "outputs": [
        {
          "output_type": "stream",
          "name": "stdout",
          "text": [
            "Epoch [1/10], Step [704/704], Loss: 0.8932\n",
            "Accuracy of the network on the 5000 validation images: 59.26 %\n",
            "Epoch [2/10], Step [704/704], Loss: 0.5975\n",
            "Accuracy of the network on the 5000 validation images: 67.3 %\n",
            "Epoch [3/10], Step [704/704], Loss: 0.6206\n",
            "Accuracy of the network on the 5000 validation images: 69.74 %\n",
            "Epoch [4/10], Step [704/704], Loss: 0.3599\n",
            "Accuracy of the network on the 5000 validation images: 73.24 %\n",
            "Epoch [5/10], Step [704/704], Loss: 0.5620\n",
            "Accuracy of the network on the 5000 validation images: 75.3 %\n",
            "Epoch [6/10], Step [704/704], Loss: 0.7047\n",
            "Accuracy of the network on the 5000 validation images: 76.62 %\n",
            "Epoch [7/10], Step [704/704], Loss: 0.3734\n",
            "Accuracy of the network on the 5000 validation images: 78.32 %\n",
            "Epoch [8/10], Step [704/704], Loss: 1.2914\n",
            "Accuracy of the network on the 5000 validation images: 79.26 %\n",
            "Epoch [9/10], Step [704/704], Loss: 0.7850\n",
            "Accuracy of the network on the 5000 validation images: 78.54 %\n",
            "Epoch [10/10], Step [704/704], Loss: 0.8601\n",
            "Accuracy of the network on the 5000 validation images: 80.7 %\n",
            "Epoch [1/10], Step [704/704], Loss: 1.3642\n",
            "Accuracy of the network on the 5000 validation images: 59.22 %\n",
            "Epoch [2/10], Step [704/704], Loss: 0.8798\n",
            "Accuracy of the network on the 5000 validation images: 66.7 %\n",
            "Epoch [3/10], Step [704/704], Loss: 0.6547\n",
            "Accuracy of the network on the 5000 validation images: 68.7 %\n",
            "Epoch [4/10], Step [704/704], Loss: 1.0208\n",
            "Accuracy of the network on the 5000 validation images: 73.98 %\n",
            "Epoch [5/10], Step [704/704], Loss: 0.8065\n",
            "Accuracy of the network on the 5000 validation images: 76.0 %\n",
            "Epoch [6/10], Step [704/704], Loss: 0.9771\n",
            "Accuracy of the network on the 5000 validation images: 77.26 %\n",
            "Epoch [7/10], Step [704/704], Loss: 0.2826\n",
            "Accuracy of the network on the 5000 validation images: 78.3 %\n",
            "Epoch [8/10], Step [704/704], Loss: 0.7033\n",
            "Accuracy of the network on the 5000 validation images: 78.2 %\n",
            "Epoch [9/10], Step [704/704], Loss: 0.2628\n",
            "Accuracy of the network on the 5000 validation images: 79.62 %\n",
            "Epoch [10/10], Step [704/704], Loss: 1.8216\n",
            "Accuracy of the network on the 5000 validation images: 79.1 %\n",
            "Epoch [1/10], Step [704/704], Loss: 1.0706\n",
            "Accuracy of the network on the 5000 validation images: 58.46 %\n",
            "Epoch [2/10], Step [704/704], Loss: 1.6150\n",
            "Accuracy of the network on the 5000 validation images: 68.46 %\n",
            "Epoch [3/10], Step [704/704], Loss: 0.5756\n",
            "Accuracy of the network on the 5000 validation images: 71.48 %\n",
            "Epoch [4/10], Step [704/704], Loss: 0.4747\n",
            "Accuracy of the network on the 5000 validation images: 74.2 %\n",
            "Epoch [5/10], Step [704/704], Loss: 0.9240\n",
            "Accuracy of the network on the 5000 validation images: 75.14 %\n",
            "Epoch [6/10], Step [704/704], Loss: 0.9934\n",
            "Accuracy of the network on the 5000 validation images: 76.86 %\n",
            "Epoch [7/10], Step [704/704], Loss: 0.4619\n",
            "Accuracy of the network on the 5000 validation images: 77.38 %\n",
            "Epoch [8/10], Step [704/704], Loss: 0.2666\n",
            "Accuracy of the network on the 5000 validation images: 79.28 %\n",
            "Epoch [9/10], Step [704/704], Loss: 0.1925\n",
            "Accuracy of the network on the 5000 validation images: 79.92 %\n",
            "Epoch [10/10], Step [704/704], Loss: 1.0264\n",
            "Accuracy of the network on the 5000 validation images: 81.0 %\n",
            "Epoch [1/10], Step [704/704], Loss: 1.0556\n",
            "Accuracy of the network on the 5000 validation images: 56.16 %\n",
            "Epoch [2/10], Step [704/704], Loss: 1.4114\n",
            "Accuracy of the network on the 5000 validation images: 65.86 %\n",
            "Epoch [3/10], Step [704/704], Loss: 1.1806\n",
            "Accuracy of the network on the 5000 validation images: 70.56 %\n",
            "Epoch [4/10], Step [704/704], Loss: 0.6043\n",
            "Accuracy of the network on the 5000 validation images: 73.88 %\n",
            "Epoch [5/10], Step [704/704], Loss: 1.3357\n",
            "Accuracy of the network on the 5000 validation images: 74.6 %\n",
            "Epoch [6/10], Step [704/704], Loss: 0.6205\n",
            "Accuracy of the network on the 5000 validation images: 76.66 %\n",
            "Epoch [7/10], Step [704/704], Loss: 0.7705\n",
            "Accuracy of the network on the 5000 validation images: 76.84 %\n",
            "Epoch [8/10], Step [704/704], Loss: 0.1784\n",
            "Accuracy of the network on the 5000 validation images: 78.72 %\n",
            "Epoch [9/10], Step [704/704], Loss: 0.5062\n",
            "Accuracy of the network on the 5000 validation images: 79.04 %\n",
            "Epoch [10/10], Step [704/704], Loss: 0.2876\n",
            "Accuracy of the network on the 5000 validation images: 78.94 %\n",
            "Epoch [1/10], Step [704/704], Loss: 1.0375\n",
            "Accuracy of the network on the 5000 validation images: 56.36 %\n",
            "Epoch [2/10], Step [704/704], Loss: 0.8679\n",
            "Accuracy of the network on the 5000 validation images: 66.08 %\n",
            "Epoch [3/10], Step [704/704], Loss: 1.4324\n",
            "Accuracy of the network on the 5000 validation images: 71.12 %\n",
            "Epoch [4/10], Step [704/704], Loss: 0.5021\n",
            "Accuracy of the network on the 5000 validation images: 74.02 %\n",
            "Epoch [5/10], Step [704/704], Loss: 0.7195\n",
            "Accuracy of the network on the 5000 validation images: 76.2 %\n",
            "Epoch [6/10], Step [704/704], Loss: 0.1346\n",
            "Accuracy of the network on the 5000 validation images: 76.5 %\n",
            "Epoch [7/10], Step [704/704], Loss: 1.1593\n",
            "Accuracy of the network on the 5000 validation images: 77.9 %\n",
            "Epoch [8/10], Step [704/704], Loss: 0.3838\n",
            "Accuracy of the network on the 5000 validation images: 78.12 %\n",
            "Epoch [9/10], Step [704/704], Loss: 0.2153\n",
            "Accuracy of the network on the 5000 validation images: 77.68 %\n",
            "Epoch [10/10], Step [704/704], Loss: 1.4611\n",
            "Accuracy of the network on the 5000 validation images: 80.4 %\n"
          ]
        }
      ],
      "source": [
        "best_position, best_value = particle_swarm_optimization(num_dimensions, num_particles, max_iter,bounds=bounds_p)"
      ]
    },
    {
      "cell_type": "code",
      "execution_count": null,
      "metadata": {
        "id": "YTUCTk099SXB"
      },
      "outputs": [],
      "source": []
    },
    {
      "cell_type": "code",
      "execution_count": null,
      "metadata": {
        "id": "eyzOChdDR6pP"
      },
      "outputs": [],
      "source": []
    }
  ],
  "metadata": {
    "colab": {
      "machine_shape": "hm",
      "provenance": [],
      "gpuType": "L4"
    },
    "kernelspec": {
      "display_name": "Python 3",
      "name": "python3"
    },
    "language_info": {
      "name": "python"
    },
    "accelerator": "GPU"
  },
  "nbformat": 4,
  "nbformat_minor": 0
}